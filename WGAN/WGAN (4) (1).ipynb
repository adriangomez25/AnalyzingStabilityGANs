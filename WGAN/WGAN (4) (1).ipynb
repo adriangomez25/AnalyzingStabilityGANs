{
 "cells": [
  {
   "cell_type": "code",
   "execution_count": 1,
   "metadata": {},
   "outputs": [],
   "source": [
    "import os\n",
    "import numpy as np\n",
    "import math\n",
    "import torchvision.transforms as transforms\n",
    "from torchvision.utils import save_image\n",
    "import torch.optim as optim\n",
    "import torchvision\n",
    "from torch.utils.data import DataLoader\n",
    "from torchvision import datasets\n",
    "from torch.autograd import Variable\n",
    "import torch.nn as nn\n",
    "import torch.nn.functional as F\n",
    "import torch\n",
    "import matplotlib.pyplot as plt\n",
    "import collections\n",
    "import pickle"
   ]
  },
  {
   "cell_type": "code",
   "execution_count": 2,
   "metadata": {},
   "outputs": [],
   "source": [
    "class Discriminator(nn.Module):\n",
    "    def __init__(self):\n",
    "        super().__init__()\n",
    "        self.conv1 = nn.Conv2d(in_channels=3, out_channels =32, kernel_size= 4, stride = 2, padding = 1)\n",
    "        self.bn1 = nn.BatchNorm2d(32)\n",
    "        self.conv2 = nn.Conv2d(in_channels=32, out_channels =64, kernel_size= 4, stride = 2, padding = 1)\n",
    "        self.bn2 = nn.BatchNorm2d(64)\n",
    "        self.conv3 = nn.Conv2d(in_channels=64, out_channels=128, kernel_size= 4, stride = 2, padding = 1)\n",
    "        self.bn3 = nn.BatchNorm2d(128)\n",
    "        self.conv4 = nn.Conv2d(in_channels=128, out_channels=256, kernel_size= 4, stride = 2, padding = 1)\n",
    "        self.bn4 = nn.BatchNorm2d(256)\n",
    "        self.conv5 = nn.Conv2d(in_channels=256, out_channels=1, kernel_size= 4, stride = 2, padding = 1)\n",
    "\n",
    "    def forward(self,x):\n",
    "        num_images = x.shape[0]\n",
    "        x = F.leaky_relu(self.bn1(self.conv1(x)),negative_slope=0.2)\n",
    "        x =  F.leaky_relu(self.bn2(self.conv2(x)),negative_slope=0.2)\n",
    "        x =  F.leaky_relu(self.bn3(self.conv3(x)),negative_slope=0.2)\n",
    "        x =  F.leaky_relu(self.bn4(self.conv4(x)),negative_slope=0.2)\n",
    "        x = self.conv5(x)\n",
    "        return x.reshape(num_images,1)\n",
    "\n",
    "class Generator(nn.Module):\n",
    "  #100 dimensional uniform distribution Z is input from Figure 1 of the paper\n",
    "  #First layer should have depth 1024. 1024/32 = 32\n",
    "    def __init__(self):\n",
    "        super().__init__()\n",
    "        self.upscale1 = nn.ConvTranspose2d(in_channels=100, out_channels=1024,kernel_size=4,stride = 1)\n",
    "        self.bn1 = nn.BatchNorm2d(1024)\n",
    "        self.upscale2 = nn.ConvTranspose2d(in_channels=1024, out_channels=512,kernel_size=4,stride = 2,padding=1)\n",
    "        self.bn2 = nn.BatchNorm2d(512)\n",
    "        self.upscale3 = nn.ConvTranspose2d(in_channels=512, out_channels=256,kernel_size=4,stride = 2,padding=1)\n",
    "        self.bn3 = nn.BatchNorm2d(256)\n",
    "        self.upscale4 = nn.ConvTranspose2d(in_channels=256, out_channels=3,kernel_size=4,stride = 2,padding=1)\n",
    "    def forward(self,x):\n",
    "        x = F.relu(self.bn1(self.upscale1(x)))\n",
    "        x = F.relu(self.bn2(self.upscale2(x)))\n",
    "        x = F.relu(self.bn3(self.upscale3(x)))\n",
    "        x = torch.tanh(self.upscale4(x))\n",
    "        return x"
   ]
  },
  {
   "cell_type": "code",
   "execution_count": 3,
   "metadata": {},
   "outputs": [
    {
     "name": "stdout",
     "output_type": "stream",
     "text": [
      "[26, 1]\n",
      "The output is of correct shape\n"
     ]
    }
   ],
   "source": [
    "num_chanels = 3 #num channels (RBG)\n",
    "num_images =26\n",
    "dim = 32 #dim of CIFAR10 dataset = 32x32 images\n",
    "rand_image = torch.randn(num_images,num_chanels,dim,dim)\n",
    "net = Discriminator()\n",
    "out = net(rand_image)\n",
    "#Checks to see if output are correct shape\n",
    "print(list(out.shape))\n",
    "if (list(out.shape) == [num_images,1]):\n",
    "    print(\"The output is of correct shape\")"
   ]
  },
  {
   "cell_type": "code",
   "execution_count": 4,
   "metadata": {},
   "outputs": [
    {
     "name": "stdout",
     "output_type": "stream",
     "text": [
      "[10, 3, 32, 32]\n"
     ]
    }
   ],
   "source": [
    "num_chanels = 100 #num channels (RBG)\n",
    "num_images =10\n",
    "dim = 1 #dim of CIFAR10 dataset = 32x32 images\n",
    "rand_image = torch.randn(num_images,num_chanels,dim,dim)\n",
    "net = Generator()\n",
    "out = net(rand_image)\n",
    "#Checks to see if output are correct shape\n",
    "print(list(out.shape))"
   ]
  },
  {
   "cell_type": "code",
   "execution_count": 5,
   "metadata": {},
   "outputs": [],
   "source": [
    "discriminator = Discriminator().cuda()\n",
    "for layer in discriminator.modules():\n",
    "      if isinstance(layer,nn.Conv2d):\n",
    "        nn.init.normal_(layer.weight.data,0,0.02)\n",
    "\n",
    "generator = Generator().cuda()\n",
    "for layer in discriminator.modules():\n",
    "      if isinstance(layer,nn.ConvTranspose2d):\n",
    "        nn.init.normal_(layer.weight.data,0,0.02)"
   ]
  },
  {
   "cell_type": "code",
   "execution_count": 6,
   "metadata": {},
   "outputs": [],
   "source": [
    "def sample_image_norm(n_row, batches_done):\n",
    "    \"\"\"Saves a grid of generated digits ranging from 0 to n_classes\"\"\"\n",
    "    # Sample noise\n",
    "    z = torch.randn(n_row, 100, 1, 1).cuda()\n",
    "    # Get labels ranging from 0 to n_classes for n rows\n",
    "    labels = np.array([num for _ in range(n_row) for num in range(n_row)])\n",
    "    labels = torch.as_tensor(torch.LongTensor(labels))\n",
    "    #can turn off gradient computation to run\n",
    "    with torch.no_grad():\n",
    "        gen_imgs = generator(z)\n",
    "    save_image(gen_imgs.data, \"WGAN_images_norm/%d.png\" % batches_done, normalize=True)\n",
    "\n",
    "def sample_image(n_row, batches_done):\n",
    "    \"\"\"Saves a grid of generated digits ranging from 0 to n_classes\"\"\"\n",
    "    # Sample noise\n",
    "    z = torch.randn(n_row, 100, 1, 1).cuda()\n",
    "    # Get labels ranging from 0 to n_classes for n rows\n",
    "    labels = np.array([num for _ in range(n_row) for num in range(n_row)])\n",
    "    labels = torch.as_tensor(torch.LongTensor(labels))\n",
    "    #can turn off gradient computation to run\n",
    "    with torch.no_grad():\n",
    "        gen_imgs = generator(z)\n",
    "    #set normalization to False\n",
    "    save_image(gen_imgs.data, \"WGAN_images/%d.png\" % batches_done, normalize=False)"
   ]
  },
  {
   "cell_type": "code",
   "execution_count": 7,
   "metadata": {},
   "outputs": [],
   "source": [
    "os.makedirs(\"WGAN_images\", exist_ok=True)\n",
    "os.makedirs(\"WGAN_images_norm\", exist_ok=True)\n",
    "os.makedirs(\"WGAN_data\", exist_ok=True)\n",
    "os.makedirs(\"WGAN_model\", exist_ok=True)\n",
    "os.makedirs(\"WGAN_GEN_WEIGHTS\", exist_ok=True)\n",
    "os.makedirs(\"WGAN_GEN_GRADS\", exist_ok=True)\n",
    "os.makedirs(\"WGAN_DISC_GRADS\", exist_ok=True)"
   ]
  },
  {
   "cell_type": "code",
   "execution_count": 8,
   "metadata": {},
   "outputs": [
    {
     "name": "stdout",
     "output_type": "stream",
     "text": [
      "Files already downloaded and verified\n"
     ]
    }
   ],
   "source": [
    "#set hyperparameters and Normalization\n",
    "sample_interval=391\n",
    "NUM_EPOCHS = 200\n",
    "\n",
    "sample_interval=391\n",
    "NUM_EPOCHS = 200\n",
    "alpha = 5e-5\n",
    "batch_size = 64\n",
    "n_critic=5\n",
    "c = 0.01\n",
    "\n",
    "optimizer_gen= optim.RMSprop(generator.parameters(), lr=alpha)\n",
    "optimizer_disc = optim.RMSprop(discriminator.parameters(), lr=alpha)\n",
    "transform = transforms.Compose([transforms.Resize(32), transforms.ToTensor()])\n",
    "\n",
    "dataset = datasets.CIFAR10(root='./data', train=True,\n",
    "                                        download=True, transform=transform)\n",
    "dataloader = torch.utils.data.DataLoader(dataset, batch_size=batch_size,\n",
    "                                          shuffle=True, num_workers=2)"
   ]
  },
  {
   "cell_type": "code",
   "execution_count": 9,
   "metadata": {},
   "outputs": [
    {
     "name": "stdout",
     "output_type": "stream",
     "text": [
      "Ready to Run!\n"
     ]
    },
    {
     "name": "stderr",
     "output_type": "stream",
     "text": [
      "/opt/conda/lib/python3.6/site-packages/torch/serialization.py:360: UserWarning: Couldn't retrieve source code for container of type Generator. It won't be checked for correctness upon loading.\n",
      "  \"type \" + obj.__name__ + \". It won't be checked \"\n"
     ]
    },
    {
     "name": "stdout",
     "output_type": "stream",
     "text": [
      "[Epoch 0/200] [D loss: -0.157786] [G loss: 0.072773]\n",
      "[Epoch 1/200] [D loss: -0.186499] [G loss: 0.082615]\n",
      "[Epoch 2/200] [D loss: -0.187309] [G loss: 0.082631]\n",
      "[Epoch 3/200] [D loss: -0.187137] [G loss: 0.082456]\n",
      "[Epoch 4/200] [D loss: -0.187919] [G loss: 0.082997]\n",
      "[Epoch 5/200] [D loss: -0.187628] [G loss: 0.082841]\n",
      "[Epoch 6/200] [D loss: -0.186855] [G loss: 0.082281]\n",
      "[Epoch 7/200] [D loss: -0.188080] [G loss: 0.083066]\n",
      "[Epoch 8/200] [D loss: -0.188300] [G loss: 0.083047]\n",
      "[Epoch 9/200] [D loss: -0.186761] [G loss: 0.082228]\n",
      "[Epoch 10/200] [D loss: -0.188151] [G loss: 0.082943]\n",
      "[Epoch 11/200] [D loss: -0.005086] [G loss: -0.093622]\n",
      "[Epoch 12/200] [D loss: -0.187302] [G loss: 0.082401]\n",
      "[Epoch 13/200] [D loss: -0.185084] [G loss: 0.081208]\n",
      "[Epoch 14/200] [D loss: -0.061353] [G loss: 0.042743]\n",
      "[Epoch 15/200] [D loss: -0.187918] [G loss: 0.082973]\n",
      "[Epoch 16/200] [D loss: -0.187583] [G loss: 0.082595]\n",
      "[Epoch 17/200] [D loss: -0.188333] [G loss: 0.083081]\n",
      "[Epoch 18/200] [D loss: -0.185061] [G loss: 0.081250]\n",
      "[Epoch 19/200] [D loss: -0.171113] [G loss: 0.075112]\n",
      "[Epoch 20/200] [D loss: -0.185808] [G loss: 0.081860]\n",
      "[Epoch 21/200] [D loss: -0.187455] [G loss: 0.082605]\n",
      "[Epoch 22/200] [D loss: -0.136612] [G loss: -0.052072]\n",
      "[Epoch 23/200] [D loss: -0.000804] [G loss: 0.081535]\n",
      "[Epoch 24/200] [D loss: -0.064457] [G loss: 0.023200]\n",
      "[Epoch 25/200] [D loss: -0.140423] [G loss: 0.066322]\n",
      "[Epoch 26/200] [D loss: -0.041486] [G loss: -0.039520]\n",
      "[Epoch 27/200] [D loss: -0.101592] [G loss: 0.062996]\n",
      "[Epoch 28/200] [D loss: -0.040351] [G loss: -0.001860]\n",
      "[Epoch 29/200] [D loss: -0.157159] [G loss: 0.071097]\n",
      "[Epoch 30/200] [D loss: -0.115391] [G loss: 0.049814]\n",
      "[Epoch 31/200] [D loss: -0.030431] [G loss: -0.007775]\n",
      "[Epoch 32/200] [D loss: -0.182486] [G loss: 0.079806]\n",
      "[Epoch 33/200] [D loss: -0.044078] [G loss: -0.027995]\n",
      "[Epoch 34/200] [D loss: -0.076272] [G loss: 0.062231]\n",
      "[Epoch 35/200] [D loss: -0.100150] [G loss: -0.009150]\n",
      "[Epoch 36/200] [D loss: -0.104103] [G loss: 0.071822]\n",
      "[Epoch 37/200] [D loss: -0.086103] [G loss: 0.010924]\n",
      "[Epoch 38/200] [D loss: -0.083371] [G loss: 0.001371]\n",
      "[Epoch 39/200] [D loss: -0.114154] [G loss: 0.033358]\n",
      "[Epoch 40/200] [D loss: -0.055786] [G loss: -0.019887]\n",
      "[Epoch 41/200] [D loss: -0.047576] [G loss: -0.009791]\n",
      "[Epoch 42/200] [D loss: -0.071182] [G loss: -0.035221]\n",
      "[Epoch 43/200] [D loss: -0.107674] [G loss: 0.003093]\n",
      "[Epoch 44/200] [D loss: -0.030399] [G loss: 0.024657]\n",
      "[Epoch 45/200] [D loss: -0.105789] [G loss: 0.045855]\n",
      "[Epoch 46/200] [D loss: -0.072299] [G loss: 0.062966]\n",
      "[Epoch 47/200] [D loss: -0.131680] [G loss: 0.062359]\n",
      "[Epoch 48/200] [D loss: -0.076776] [G loss: -0.023373]\n",
      "[Epoch 49/200] [D loss: -0.061371] [G loss: 0.013124]\n",
      "[Epoch 50/200] [D loss: -0.027907] [G loss: 0.013939]\n",
      "[Epoch 51/200] [D loss: -0.111738] [G loss: 0.039663]\n",
      "[Epoch 52/200] [D loss: -0.095605] [G loss: 0.055895]\n",
      "[Epoch 53/200] [D loss: -0.085966] [G loss: 0.053137]\n",
      "[Epoch 54/200] [D loss: -0.077050] [G loss: -0.013150]\n",
      "[Epoch 55/200] [D loss: -0.077500] [G loss: -0.023001]\n",
      "[Epoch 56/200] [D loss: -0.060835] [G loss: -0.026750]\n",
      "[Epoch 57/200] [D loss: -0.058605] [G loss: 0.044151]\n",
      "[Epoch 58/200] [D loss: -0.077625] [G loss: 0.035970]\n",
      "[Epoch 59/200] [D loss: -0.009022] [G loss: 0.054086]\n",
      "[Epoch 60/200] [D loss: -0.033449] [G loss: 0.023466]\n",
      "[Epoch 61/200] [D loss: -0.078793] [G loss: 0.050505]\n",
      "[Epoch 62/200] [D loss: -0.054490] [G loss: 0.070059]\n",
      "[Epoch 63/200] [D loss: -0.075479] [G loss: -0.013439]\n",
      "[Epoch 64/200] [D loss: -0.069830] [G loss: -0.009669]\n",
      "[Epoch 65/200] [D loss: -0.083769] [G loss: -0.007981]\n",
      "[Epoch 66/200] [D loss: -0.059182] [G loss: 0.000583]\n",
      "[Epoch 67/200] [D loss: -0.059825] [G loss: 0.061262]\n",
      "[Epoch 68/200] [D loss: -0.027574] [G loss: 0.009955]\n",
      "[Epoch 69/200] [D loss: -0.061382] [G loss: 0.054748]\n",
      "[Epoch 70/200] [D loss: -0.066580] [G loss: 0.009646]\n",
      "[Epoch 71/200] [D loss: -0.064506] [G loss: 0.027779]\n",
      "[Epoch 72/200] [D loss: -0.049125] [G loss: -0.051096]\n",
      "[Epoch 73/200] [D loss: -0.078327] [G loss: -0.010836]\n",
      "[Epoch 74/200] [D loss: -0.066447] [G loss: 0.045163]\n",
      "[Epoch 75/200] [D loss: -0.046402] [G loss: 0.054754]\n",
      "[Epoch 76/200] [D loss: -0.063546] [G loss: -0.044373]\n",
      "[Epoch 77/200] [D loss: -0.067380] [G loss: -0.016382]\n",
      "[Epoch 78/200] [D loss: -0.071149] [G loss: 0.062617]\n",
      "[Epoch 79/200] [D loss: -0.037641] [G loss: -0.012266]\n",
      "[Epoch 80/200] [D loss: -0.045504] [G loss: -0.054838]\n",
      "[Epoch 81/200] [D loss: -0.038999] [G loss: -0.035472]\n",
      "[Epoch 82/200] [D loss: -0.049424] [G loss: -0.060332]\n",
      "[Epoch 83/200] [D loss: -0.060137] [G loss: 0.014468]\n",
      "[Epoch 84/200] [D loss: -0.087134] [G loss: 0.055362]\n",
      "[Epoch 85/200] [D loss: -0.031047] [G loss: 0.018843]\n",
      "[Epoch 86/200] [D loss: -0.044294] [G loss: -0.024595]\n",
      "[Epoch 87/200] [D loss: -0.052672] [G loss: -0.022209]\n",
      "[Epoch 88/200] [D loss: -0.058839] [G loss: -0.019594]\n",
      "[Epoch 89/200] [D loss: -0.064072] [G loss: 0.037317]\n",
      "[Epoch 90/200] [D loss: -0.068258] [G loss: -0.051455]\n",
      "[Epoch 91/200] [D loss: -0.047419] [G loss: 0.052274]\n",
      "[Epoch 92/200] [D loss: -0.062320] [G loss: 0.026389]\n",
      "[Epoch 93/200] [D loss: -0.081735] [G loss: -0.001765]\n",
      "[Epoch 94/200] [D loss: -0.076422] [G loss: -0.006437]\n",
      "[Epoch 95/200] [D loss: -0.080693] [G loss: 0.047685]\n",
      "[Epoch 96/200] [D loss: -0.057045] [G loss: -0.010417]\n",
      "[Epoch 97/200] [D loss: -0.052176] [G loss: 0.017602]\n",
      "[Epoch 98/200] [D loss: -0.048933] [G loss: 0.026810]\n",
      "[Epoch 99/200] [D loss: -0.060031] [G loss: 0.033005]\n",
      "[Epoch 100/200] [D loss: -0.045793] [G loss: 0.013135]\n",
      "[Epoch 101/200] [D loss: -0.065400] [G loss: 0.025523]\n",
      "[Epoch 102/200] [D loss: -0.062160] [G loss: 0.018259]\n",
      "[Epoch 103/200] [D loss: -0.070203] [G loss: 0.025241]\n",
      "[Epoch 104/200] [D loss: -0.054249] [G loss: 0.003117]\n"
     ]
    },
    {
     "ename": "RuntimeError",
     "evalue": "CUDA out of memory. Tried to allocate 32.00 MiB (GPU 0; 2.69 GiB total capacity; 1.80 GiB already allocated; 0 bytes free; 1.90 GiB reserved in total by PyTorch)",
     "output_type": "error",
     "traceback": [
      "\u001b[0;31m---------------------------------------------------------------------------\u001b[0m",
      "\u001b[0;31mRuntimeError\u001b[0m                              Traceback (most recent call last)",
      "\u001b[0;32m<ipython-input-9-1509e3f7a652>\u001b[0m in \u001b[0;36m<module>\u001b[0;34m\u001b[0m\n\u001b[1;32m     27\u001b[0m             \u001b[0mloss_disc\u001b[0m\u001b[0;34m=\u001b[0m \u001b[0;34m-\u001b[0m\u001b[0;34m(\u001b[0m\u001b[0mtorch\u001b[0m\u001b[0;34m.\u001b[0m\u001b[0mmean\u001b[0m\u001b[0;34m(\u001b[0m\u001b[0mdisc_real\u001b[0m\u001b[0;34m)\u001b[0m \u001b[0;34m-\u001b[0m \u001b[0mtorch\u001b[0m\u001b[0;34m.\u001b[0m\u001b[0mmean\u001b[0m\u001b[0;34m(\u001b[0m\u001b[0mdisc_fake\u001b[0m\u001b[0;34m)\u001b[0m\u001b[0;34m)\u001b[0m\u001b[0;34m\u001b[0m\u001b[0;34m\u001b[0m\u001b[0m\n\u001b[1;32m     28\u001b[0m             \u001b[0mdiscriminator\u001b[0m\u001b[0;34m.\u001b[0m\u001b[0mzero_grad\u001b[0m\u001b[0;34m(\u001b[0m\u001b[0;34m)\u001b[0m \u001b[0;31m#zero gradients\u001b[0m\u001b[0;34m\u001b[0m\u001b[0;34m\u001b[0m\u001b[0m\n\u001b[0;32m---> 29\u001b[0;31m             \u001b[0mloss_disc\u001b[0m\u001b[0;34m.\u001b[0m\u001b[0mbackward\u001b[0m\u001b[0;34m(\u001b[0m\u001b[0mretain_graph\u001b[0m\u001b[0;34m=\u001b[0m\u001b[0;32mTrue\u001b[0m\u001b[0;34m)\u001b[0m \u001b[0;31m#backpropagation\u001b[0m\u001b[0;34m\u001b[0m\u001b[0;34m\u001b[0m\u001b[0m\n\u001b[0m\u001b[1;32m     30\u001b[0m             \u001b[0moptimizer_disc\u001b[0m\u001b[0;34m.\u001b[0m\u001b[0mstep\u001b[0m\u001b[0;34m(\u001b[0m\u001b[0;34m)\u001b[0m\u001b[0;34m\u001b[0m\u001b[0;34m\u001b[0m\u001b[0m\n\u001b[1;32m     31\u001b[0m \u001b[0;34m\u001b[0m\u001b[0m\n",
      "\u001b[0;32m/opt/conda/lib/python3.6/site-packages/torch/tensor.py\u001b[0m in \u001b[0;36mbackward\u001b[0;34m(self, gradient, retain_graph, create_graph)\u001b[0m\n\u001b[1;32m    193\u001b[0m                 \u001b[0mproducts\u001b[0m\u001b[0;34m.\u001b[0m \u001b[0mDefaults\u001b[0m \u001b[0mto\u001b[0m\u001b[0;31m \u001b[0m\u001b[0;31m`\u001b[0m\u001b[0;31m`\u001b[0m\u001b[0;32mFalse\u001b[0m\u001b[0;31m`\u001b[0m\u001b[0;31m`\u001b[0m\u001b[0;34m.\u001b[0m\u001b[0;34m\u001b[0m\u001b[0;34m\u001b[0m\u001b[0m\n\u001b[1;32m    194\u001b[0m         \"\"\"\n\u001b[0;32m--> 195\u001b[0;31m         \u001b[0mtorch\u001b[0m\u001b[0;34m.\u001b[0m\u001b[0mautograd\u001b[0m\u001b[0;34m.\u001b[0m\u001b[0mbackward\u001b[0m\u001b[0;34m(\u001b[0m\u001b[0mself\u001b[0m\u001b[0;34m,\u001b[0m \u001b[0mgradient\u001b[0m\u001b[0;34m,\u001b[0m \u001b[0mretain_graph\u001b[0m\u001b[0;34m,\u001b[0m \u001b[0mcreate_graph\u001b[0m\u001b[0;34m)\u001b[0m\u001b[0;34m\u001b[0m\u001b[0;34m\u001b[0m\u001b[0m\n\u001b[0m\u001b[1;32m    196\u001b[0m \u001b[0;34m\u001b[0m\u001b[0m\n\u001b[1;32m    197\u001b[0m     \u001b[0;32mdef\u001b[0m \u001b[0mregister_hook\u001b[0m\u001b[0;34m(\u001b[0m\u001b[0mself\u001b[0m\u001b[0;34m,\u001b[0m \u001b[0mhook\u001b[0m\u001b[0;34m)\u001b[0m\u001b[0;34m:\u001b[0m\u001b[0;34m\u001b[0m\u001b[0;34m\u001b[0m\u001b[0m\n",
      "\u001b[0;32m/opt/conda/lib/python3.6/site-packages/torch/autograd/__init__.py\u001b[0m in \u001b[0;36mbackward\u001b[0;34m(tensors, grad_tensors, retain_graph, create_graph, grad_variables)\u001b[0m\n\u001b[1;32m     97\u001b[0m     Variable._execution_engine.run_backward(\n\u001b[1;32m     98\u001b[0m         \u001b[0mtensors\u001b[0m\u001b[0;34m,\u001b[0m \u001b[0mgrad_tensors\u001b[0m\u001b[0;34m,\u001b[0m \u001b[0mretain_graph\u001b[0m\u001b[0;34m,\u001b[0m \u001b[0mcreate_graph\u001b[0m\u001b[0;34m,\u001b[0m\u001b[0;34m\u001b[0m\u001b[0;34m\u001b[0m\u001b[0m\n\u001b[0;32m---> 99\u001b[0;31m         allow_unreachable=True)  # allow_unreachable flag\n\u001b[0m\u001b[1;32m    100\u001b[0m \u001b[0;34m\u001b[0m\u001b[0m\n\u001b[1;32m    101\u001b[0m \u001b[0;34m\u001b[0m\u001b[0m\n",
      "\u001b[0;31mRuntimeError\u001b[0m: CUDA out of memory. Tried to allocate 32.00 MiB (GPU 0; 2.69 GiB total capacity; 1.80 GiB already allocated; 0 bytes free; 1.90 GiB reserved in total by PyTorch)"
     ]
    }
   ],
   "source": [
    "loss_g_list=[]\n",
    "loss_d_list=[]\n",
    "\n",
    "#set models to train \n",
    "generator.train()\n",
    "discriminator.train()\n",
    "print(\"Ready to Run!\")\n",
    "\n",
    "#run loop\n",
    "for epoch in range(NUM_EPOCHS):\n",
    "    grad_dict = collections.defaultdict(list)\n",
    "    torch.save(generator,\"WGAN_GEN_WEIGHTS/weights\" + str(epoch) + \".pt\")\n",
    "#     torch.save(optimizer_gen.state_dict(), \"WGAN_GEN_GRADS/GradientsGen\" + str(epoch) + \".pt\")\n",
    "#     torch.save(optimizer_disc.state_dict(), \"WGAN_GEN_DISC_GRADS/GradientsDisc\" + str(epoch) + \".pt\")\n",
    "\n",
    "\n",
    "    for batch_idx, (real, _) in enumerate(dataloader):\n",
    "        real = real.cuda() #get real images\n",
    "\n",
    "        for k in range(n_critic):\n",
    "            ### Train Discriminator\n",
    "            \n",
    "            noise = torch.randn(batch_size, 100, 1, 1).cuda()\n",
    "            fake = generator(noise)\n",
    "            disc_real = discriminator(real).reshape(-1)\n",
    "            disc_fake = discriminator(fake).reshape(-1)\n",
    "            loss_disc= -(torch.mean(disc_real) - torch.mean(disc_fake))\n",
    "            discriminator.zero_grad() #zero gradients \n",
    "            loss_disc.backward(retain_graph=True) #backpropagation\n",
    "            optimizer_disc.step()\n",
    "        \n",
    "            for params in discriminator.parameters():\n",
    "                params.data.clamp_(-c, c)\n",
    "\n",
    "        ### Train Generator\n",
    "        output = discriminator(fake).reshape(-1) #have discriminator classify fake \n",
    "        loss_gen = -torch.mean(output)\n",
    "        generator.zero_grad() #zero gradients \n",
    "        loss_gen.backward() #backpropagation\n",
    "        optimizer_gen.step()\n",
    "        \n",
    "\n",
    "        #below jsut saves some data \n",
    "        batches_done = epoch * len(dataloader) + batch_idx\n",
    "        if batches_done % sample_interval == 0:\n",
    "            sample_image_norm(n_row=64, batches_done=batches_done)\n",
    "            sample_image(n_row=64, batches_done=batches_done)\n",
    "            torch.save({\n",
    "            'epoch': epoch,\n",
    "            #'model_state_dict': generator.state_dict(),\n",
    "            #'optimizer_state_dict': optimizer_gen.state_dict(),\n",
    "            'loss_gen': loss_gen,\n",
    "            'loss_disc': loss_disc,\n",
    "            }, \"./WGAN_model/model\"+str(epoch)+\".pth\")\n",
    "    \n",
    "    #add loss to lists for later plotting\n",
    "    loss_g_list.append(loss_gen)\n",
    "    loss_d_list.append(loss_disc)\n",
    "    \n",
    "    for layer in discriminator.modules():\n",
    "        if isinstance(layer, nn.Conv2d):\n",
    "            grad = layer.weight.grad.cpu().numpy()\n",
    "            num_weights = (np.abs(grad) < 0.1).sum()\n",
    "            mean = np.mean(grad)\n",
    "            std = np.std(grad)\n",
    "            val = [mean,std,num_weights]\n",
    "            grad_dict[epoch].append(val)\n",
    "            \n",
    "    with open('grad_dict' + str(epoch) + '.pkl', 'wb') as f:\n",
    "        pickle.dump(grad_dict, f)\n",
    "        \n",
    "    #print what epoch we are on \n",
    "    print(\n",
    "          \"[Epoch %d/%d] [D loss: %f] [G loss: %f]\"\n",
    "           % (epoch, NUM_EPOCHS, loss_disc.item(), loss_gen.item())\n",
    "          )\n",
    "    generator.train()\n",
    "    discriminator.train()"
   ]
  },
  {
   "cell_type": "code",
   "execution_count": 10,
   "metadata": {},
   "outputs": [],
   "source": [
    "import pickle\n",
    "import matplotlib.pyplot as plt\n",
    "import numpy as np"
   ]
  },
  {
   "cell_type": "code",
   "execution_count": 11,
   "metadata": {},
   "outputs": [
    {
     "data": {
      "text/plain": [
       "<Figure size 432x288 with 0 Axes>"
      ]
     },
     "metadata": {},
     "output_type": "display_data"
    },
    {
     "data": {
      "image/png": "[encoded data removed]",
      "text/plain": [
       "<Figure size 320x640 with 1 Axes>"
      ]
     },
     "metadata": {
      "needs_background": "light"
     },
     "output_type": "display_data"
    }
   ],
   "source": [
    "plt.figure()\n",
    "vals = []\n",
    "layer = []\n",
    "layer_val = []\n",
    "epoch_vals = 100\n",
    "num_layers = 5\n",
    "plt.figure(figsize=(4, 8), dpi=80)\n",
    "for layer in range(num_layers):\n",
    "    if layer < 5:\n",
    "        layer_val = []\n",
    "        for epoch in range(epoch_vals):\n",
    "              with open('grad_dict' + str(epoch) + '.pkl', 'rb') as f:\n",
    "                loaded_dict = pickle.load(f)\n",
    "                for key in (loaded_dict):\n",
    "                    layer_val.append(loaded_dict[key][layer][2])\n",
    "        plt.plot(list(range(epoch_vals)),np.log(layer_val),label = \"ConvLayer\" + str(layer + 1))\n",
    "        plt.xlabel(\"Epoch\")\n",
    "        plt.ylabel(\"Log Count\")\n",
    "        plt.legend()\n",
    "       \n",
    "#plt.plot(list(range(0,200)),vals)\n",
    "plt.savefig('GradientCount.png')\n",
    "plt.show()"
   ]
  },
  {
   "cell_type": "code",
   "execution_count": null,
   "metadata": {},
   "outputs": [],
   "source": []
  }
 ],
 "metadata": {
  "kernelspec": {
   "display_name": "Python 3",
   "language": "python",
   "name": "python3"
  },
  "language_info": {
   "codemirror_mode": {
    "name": "ipython",
    "version": 3
   },
   "file_extension": ".py",
   "mimetype": "text/x-python",
   "name": "python",
   "nbconvert_exporter": "python",
   "pygments_lexer": "ipython3",
   "version": "3.6.10"
  }
 },
 "nbformat": 4,
 "nbformat_minor": 4
}
