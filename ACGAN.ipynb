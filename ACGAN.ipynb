{
  "nbformat": 4,
  "nbformat_minor": 0,
  "metadata": {
    "colab": {
      "name": "ACGAN.ipynb",
      "provenance": [],
      "collapsed_sections": []
    },
    "kernelspec": {
      "name": "python3",
      "display_name": "Python 3"
    },
    "language_info": {
      "name": "python"
    },
    "accelerator": "GPU"
  },
  "cells": [
    {
      "cell_type": "code",
      "metadata": {
        "colab": {
          "base_uri": "https://localhost:8080/"
        },
        "id": "ErkWQLA4OMH3",
        "outputId": "5711f43d-b043-44ef-8057-85b9f2a2adff"
      },
      "source": [
        "from google.colab import drive\n",
        "drive.mount('/content/drive')"
      ],
      "execution_count": null,
      "outputs": [
        {
          "output_type": "stream",
          "name": "stdout",
          "text": [
            "Drive already mounted at /content/drive; to attempt to forcibly remount, call drive.mount(\"/content/drive\", force_remount=True).\n"
          ]
        }
      ]
    },
    {
      "cell_type": "code",
      "metadata": {
        "colab": {
          "base_uri": "https://localhost:8080/"
        },
        "id": "FHkTMcmEOVIN",
        "outputId": "3345dd1f-36bc-4224-feb4-191cabc8edb0"
      },
      "source": [
        "cd \"/content/drive/MyDrive/ECE661/ACGAN/\""
      ],
      "execution_count": null,
      "outputs": [
        {
          "output_type": "stream",
          "name": "stdout",
          "text": [
            "/content/drive/MyDrive/ECE661/ACGAN\n"
          ]
        }
      ]
    },
    {
      "cell_type": "code",
      "metadata": {
        "id": "-xsgq9uZ91cr"
      },
      "source": [
        "from __future__ import print_function\n",
        "import argparse\n",
        "import os\n",
        "import numpy as np\n",
        "import random\n",
        "import torch\n",
        "import torch.nn as nn\n",
        "import torch.backends.cudnn as cudnn\n",
        "import torch.optim as optim\n",
        "import torch.utils.data\n",
        "import torchvision.datasets as dset\n",
        "import torchvision.transforms as transforms\n",
        "import torchvision.utils as vutils\n",
        "from torch.autograd import Variable"
      ],
      "execution_count": null,
      "outputs": []
    },
    {
      "cell_type": "code",
      "metadata": {
        "id": "tgoHFNfx_0Zk"
      },
      "source": [
        "def genblock(in_channels, out_channels, kernel_size, stride, padding, norm=False):\n",
        "    if not norm:\n",
        "        block = nn.Sequential(\n",
        "                nn.ConvTranspose2d(in_channels, out_channels, kernel_size, stride, padding, bias=False),\n",
        "                nn.BatchNorm2d(out_channels),\n",
        "                nn.ReLU(inplace=True),\n",
        "            )\n",
        "    else:\n",
        "        block = nn.Sequential(\n",
        "                nn.ConvTranspose2d(in_channels, out_channels, kernel_size, stride, padding, bias=False),\n",
        "                nn.Tanh(),\n",
        "            )\n",
        "    return block\n",
        "    \n",
        "class Generator(nn.Module):\n",
        "    def __init__(self, nz):\n",
        "        super(Generator, self).__init__()\n",
        "\n",
        "        # first linear layer\n",
        "        self.fc1 = nn.Linear(110, 384)\n",
        "        self.tconv2 = genblock(384, 192, 4, 1, 0)\n",
        "        self.tconv3 = genblock(192, 96, 4, 2, 1)\n",
        "        self.tconv4 = genblock(96, 48, 4, 2, 1)\n",
        "        self.tconv5 = genblock(48, 3, 4, 2, 1, norm=True)\n",
        "\n",
        "    def forward(self, input):\n",
        "        input = input.view(-1, 110)\n",
        "        fc1 = self.fc1(input)\n",
        "        fc1 = fc1.view(-1, 384, 1, 1)\n",
        "        tconv2 = self.tconv2(fc1)\n",
        "        tconv3 = self.tconv3(tconv2)\n",
        "        tconv4 = self.tconv4(tconv3)\n",
        "        tconv5 = self.tconv5(tconv4)\n",
        "        output = tconv5\n",
        "        return output"
      ],
      "execution_count": null,
      "outputs": []
    },
    {
      "cell_type": "code",
      "metadata": {
        "id": "XFIHBvc5DOCm"
      },
      "source": [
        "def dblock(in_channels, out_channels, kernel_size, stride, padding, norm=True):\n",
        "    if norm:\n",
        "        block = nn.Sequential(\n",
        "            nn.Conv2d(in_channels, out_channels, kernel_size, stride, padding, bias=False),\n",
        "            nn.BatchNorm2d(out_channels),\n",
        "            nn.LeakyReLU(0.2, inplace=True),\n",
        "            nn.Dropout(0.5, inplace=False),\n",
        "        )\n",
        "    else:\n",
        "        block = nn.Sequential(\n",
        "            nn.Conv2d(in_channels, out_channels, kernel_size, stride, padding, bias=False),\n",
        "            nn.LeakyReLU(0.2, inplace=True),\n",
        "            nn.Dropout(0.5, inplace=False),\n",
        "        )\n",
        "    return block\n",
        "    \n",
        "class Discriminator(nn.Module):\n",
        "    def __init__(self, num_classes=10):\n",
        "        super(Discriminator, self).__init__()\n",
        "\n",
        "        self.conv1 = dblock(3, 16, 3, 2, 1,norm=False)\n",
        "        self.conv2 = dblock(16, 32, 3, 1, 1)\n",
        "        self.conv3 = dblock(32, 64, 3, 2, 1)\n",
        "        self.conv4 = dblock(64, 128, 3, 1, 1)\n",
        "        self.conv5 = dblock(128, 256, 3, 2, 1)\n",
        "        self.conv6 = dblock(256, 512, 3, 1, 1)\n",
        "        self.fc_dis = nn.Linear(4*4*512, 1)\n",
        "        self.fc_aux = nn.Linear(4*4*512, num_classes)\n",
        "        self.softmax = nn.Softmax()\n",
        "        self.sigmoid = nn.Sigmoid()\n",
        "\n",
        "    def forward(self, input):\n",
        "        conv1 = self.conv1(input)\n",
        "        conv2 = self.conv2(conv1)\n",
        "        conv3 = self.conv3(conv2)\n",
        "        conv4 = self.conv4(conv3)\n",
        "        conv5 = self.conv5(conv4)\n",
        "        conv6 = self.conv6(conv5)\n",
        "        flat6 = conv6.view(-1, 4*4*512)\n",
        "        fc_dis = self.fc_dis(flat6)\n",
        "        fc_aux = self.fc_aux(flat6)\n",
        "        classes = self.softmax(fc_aux)\n",
        "        realfake = self.sigmoid(fc_dis).view(-1, 1).squeeze(1)\n",
        "        return realfake, classes"
      ],
      "execution_count": null,
      "outputs": []
    },
    {
      "cell_type": "code",
      "metadata": {
        "id": "Jej_CjU5AyNC"
      },
      "source": [
        "dataset ='cifar10'\n",
        "dataroot = './data/'\n",
        "workers = 2\n",
        "batchSize = 100\n",
        "imageSize = 32\n",
        "nz = 110\n",
        "niter = 2\n",
        "lr = 0.0002\n",
        "beta1 = 0.5\n",
        "cuda = True\n",
        "generatorw = './finalweights/generator_epoch_99.pth'\n",
        "discriminatorw = './finalweights/discriminator_epoch_99.pth'\n",
        "outf = './output/'\n",
        "seed = random.randint(1, 10000)\n",
        "num_classes = 10\n",
        "gpu_id = 0"
      ],
      "execution_count": null,
      "outputs": []
    },
    {
      "cell_type": "code",
      "source": [
        "TEST = True\n",
        "if not TEST:\n",
        "    generatorw = ''\n",
        "    discriminatorw = ''\n",
        "    niter = 100"
      ],
      "metadata": {
        "id": "CD3Nhvt7QmRy"
      },
      "execution_count": null,
      "outputs": []
    },
    {
      "cell_type": "code",
      "metadata": {
        "colab": {
          "base_uri": "https://localhost:8080/"
        },
        "id": "qvY3dP13C0Gy",
        "outputId": "e8855801-21b7-49f7-821e-10ad8ce2071a"
      },
      "source": [
        "# specify the gpu id if using only 1 gpu\n",
        "os.environ['CUDA_VISIBLE_DEVICES'] = str(gpu_id)\n",
        "\n",
        "try:\n",
        "    os.makedirs(outf)\n",
        "except OSError:\n",
        "    pass\n",
        "\n",
        "print(\"Random Seed: \", seed)\n",
        "random.seed(seed)\n",
        "torch.manual_seed(seed)\n",
        "if cuda:\n",
        "    torch.cuda.manual_seed_all(seed)"
      ],
      "execution_count": null,
      "outputs": [
        {
          "output_type": "stream",
          "name": "stdout",
          "text": [
            "Random Seed:  9605\n"
          ]
        }
      ]
    },
    {
      "cell_type": "code",
      "metadata": {
        "colab": {
          "base_uri": "https://localhost:8080/"
        },
        "id": "pyxEcLl4DoMw",
        "outputId": "618aa3db-fb53-4da0-c5a0-38ee5223e7ee"
      },
      "source": [
        "transform  = transforms.Compose([transforms.ToTensor()])\n",
        "dataset = dset.CIFAR10(root=dataroot, download=True,transform= transform)\n",
        "dataloader = torch.utils.data.DataLoader(dataset, batch_size=batchSize,shuffle=True, num_workers=workers)"
      ],
      "execution_count": null,
      "outputs": [
        {
          "output_type": "stream",
          "name": "stdout",
          "text": [
            "Files already downloaded and verified\n"
          ]
        }
      ]
    },
    {
      "cell_type": "code",
      "metadata": {
        "colab": {
          "base_uri": "https://localhost:8080/"
        },
        "id": "hgzleCFqDwMT",
        "outputId": "45cb14be-a1cd-44d6-de5d-35a53f23db19"
      },
      "source": [
        "# Define the generator and initialize the weights\n",
        "generator = Generator(nz)\n",
        "for layer in generator.modules():\n",
        "      if isinstance(layer,nn.Conv2d):\n",
        "        nn.init.normal_(layer.weight.data,0,0.02)\n",
        "      elif isinstance(layer,nn.BatchNorm2d):\n",
        "        nn.init.normal_(layer.weight.data,1,0.02)\n",
        "if generatorw != '':\n",
        "    generator.load_state_dict(torch.load(generatorw))\n",
        "print(generator)"
      ],
      "execution_count": null,
      "outputs": [
        {
          "output_type": "stream",
          "name": "stdout",
          "text": [
            "Generator(\n",
            "  (fc1): Linear(in_features=110, out_features=384, bias=True)\n",
            "  (tconv2): Sequential(\n",
            "    (0): ConvTranspose2d(384, 192, kernel_size=(4, 4), stride=(1, 1), bias=False)\n",
            "    (1): BatchNorm2d(192, eps=1e-05, momentum=0.1, affine=True, track_running_stats=True)\n",
            "    (2): ReLU(inplace=True)\n",
            "  )\n",
            "  (tconv3): Sequential(\n",
            "    (0): ConvTranspose2d(192, 96, kernel_size=(4, 4), stride=(2, 2), padding=(1, 1), bias=False)\n",
            "    (1): BatchNorm2d(96, eps=1e-05, momentum=0.1, affine=True, track_running_stats=True)\n",
            "    (2): ReLU(inplace=True)\n",
            "  )\n",
            "  (tconv4): Sequential(\n",
            "    (0): ConvTranspose2d(96, 48, kernel_size=(4, 4), stride=(2, 2), padding=(1, 1), bias=False)\n",
            "    (1): BatchNorm2d(48, eps=1e-05, momentum=0.1, affine=True, track_running_stats=True)\n",
            "    (2): ReLU(inplace=True)\n",
            "  )\n",
            "  (tconv5): Sequential(\n",
            "    (0): ConvTranspose2d(48, 3, kernel_size=(4, 4), stride=(2, 2), padding=(1, 1), bias=False)\n",
            "    (1): Tanh()\n",
            "  )\n",
            ")\n"
          ]
        }
      ]
    },
    {
      "cell_type": "code",
      "metadata": {
        "colab": {
          "base_uri": "https://localhost:8080/"
        },
        "id": "XLijVAyqD2Jz",
        "outputId": "330efc3c-051b-4b9e-fe64-fc05b6d39431"
      },
      "source": [
        "# Define the discriminator and initialize the weights\n",
        "discriminator = Discriminator().cuda()\n",
        "for layer in discriminator.modules():\n",
        "      if isinstance(layer,nn.Conv2d):\n",
        "        nn.init.normal_(layer.weight.data,0,0.02)\n",
        "      elif isinstance(layer,nn.BatchNorm2d):\n",
        "        nn.init.normal_(layer.weight.data,1,0.02)\n",
        "\n",
        "if discriminatorw != '':\n",
        "    discriminator.load_state_dict(torch.load(discriminatorw))\n",
        "print(discriminator)"
      ],
      "execution_count": null,
      "outputs": [
        {
          "output_type": "stream",
          "name": "stdout",
          "text": [
            "Discriminator(\n",
            "  (conv1): Sequential(\n",
            "    (0): Conv2d(3, 16, kernel_size=(3, 3), stride=(2, 2), padding=(1, 1), bias=False)\n",
            "    (1): LeakyReLU(negative_slope=0.2, inplace=True)\n",
            "    (2): Dropout(p=0.5, inplace=False)\n",
            "  )\n",
            "  (conv2): Sequential(\n",
            "    (0): Conv2d(16, 32, kernel_size=(3, 3), stride=(1, 1), padding=(1, 1), bias=False)\n",
            "    (1): BatchNorm2d(32, eps=1e-05, momentum=0.1, affine=True, track_running_stats=True)\n",
            "    (2): LeakyReLU(negative_slope=0.2, inplace=True)\n",
            "    (3): Dropout(p=0.5, inplace=False)\n",
            "  )\n",
            "  (conv3): Sequential(\n",
            "    (0): Conv2d(32, 64, kernel_size=(3, 3), stride=(2, 2), padding=(1, 1), bias=False)\n",
            "    (1): BatchNorm2d(64, eps=1e-05, momentum=0.1, affine=True, track_running_stats=True)\n",
            "    (2): LeakyReLU(negative_slope=0.2, inplace=True)\n",
            "    (3): Dropout(p=0.5, inplace=False)\n",
            "  )\n",
            "  (conv4): Sequential(\n",
            "    (0): Conv2d(64, 128, kernel_size=(3, 3), stride=(1, 1), padding=(1, 1), bias=False)\n",
            "    (1): BatchNorm2d(128, eps=1e-05, momentum=0.1, affine=True, track_running_stats=True)\n",
            "    (2): LeakyReLU(negative_slope=0.2, inplace=True)\n",
            "    (3): Dropout(p=0.5, inplace=False)\n",
            "  )\n",
            "  (conv5): Sequential(\n",
            "    (0): Conv2d(128, 256, kernel_size=(3, 3), stride=(2, 2), padding=(1, 1), bias=False)\n",
            "    (1): BatchNorm2d(256, eps=1e-05, momentum=0.1, affine=True, track_running_stats=True)\n",
            "    (2): LeakyReLU(negative_slope=0.2, inplace=True)\n",
            "    (3): Dropout(p=0.5, inplace=False)\n",
            "  )\n",
            "  (conv6): Sequential(\n",
            "    (0): Conv2d(256, 512, kernel_size=(3, 3), stride=(1, 1), padding=(1, 1), bias=False)\n",
            "    (1): BatchNorm2d(512, eps=1e-05, momentum=0.1, affine=True, track_running_stats=True)\n",
            "    (2): LeakyReLU(negative_slope=0.2, inplace=True)\n",
            "    (3): Dropout(p=0.5, inplace=False)\n",
            "  )\n",
            "  (fc_dis): Linear(in_features=8192, out_features=1, bias=True)\n",
            "  (fc_aux): Linear(in_features=8192, out_features=10, bias=True)\n",
            "  (softmax): Softmax(dim=None)\n",
            "  (sigmoid): Sigmoid()\n",
            ")\n"
          ]
        }
      ]
    },
    {
      "cell_type": "code",
      "metadata": {
        "id": "lQFAt_IbDzKJ"
      },
      "source": [
        "# loss functions\n",
        "dis_loss = nn.BCELoss()\n",
        "aux_loss = nn.NLLLoss()"
      ],
      "execution_count": null,
      "outputs": []
    },
    {
      "cell_type": "code",
      "metadata": {
        "id": "ZOyphrw-D6u3"
      },
      "source": [
        "# tensor placeholders\n",
        "input = torch.FloatTensor(batchSize, 3, imageSize, imageSize)\n",
        "noise = torch.FloatTensor(batchSize, nz, 1, 1)\n",
        "eval_noise = torch.FloatTensor(batchSize, nz, 1, 1).normal_(0, 1)\n",
        "dis_label = torch.FloatTensor(batchSize)\n",
        "aux_label = torch.LongTensor(batchSize)\n",
        "real_label = 1\n",
        "fake_label = 0\n",
        "\n",
        "# if using cuda\n",
        "if cuda:\n",
        "    discriminator.cuda()\n",
        "    generator.cuda()\n",
        "    dis_loss.cuda()\n",
        "    aux_loss.cuda()\n",
        "    input, dis_label, aux_label = input.cuda(), dis_label.cuda(), aux_label.cuda()\n",
        "    noise, eval_noise = noise.cuda(), eval_noise.cuda()"
      ],
      "execution_count": null,
      "outputs": []
    },
    {
      "cell_type": "code",
      "metadata": {
        "id": "zNH4SzTtD9hJ"
      },
      "source": [
        "# define variables\n",
        "input = Variable(input)\n",
        "noise = Variable(noise)\n",
        "eval_noise = Variable(eval_noise)\n",
        "dis_label = Variable(dis_label)\n",
        "aux_label = Variable(aux_label)\n",
        "# noise for evaluation\n",
        "eval_noise_ = np.random.normal(0, 1, (batchSize, nz))\n",
        "eval_label = np.random.randint(0, num_classes, batchSize)\n",
        "eval_onehot = np.zeros((batchSize, num_classes))\n",
        "eval_onehot[np.arange(batchSize), eval_label] = 1\n",
        "eval_noise_[np.arange(batchSize), :num_classes] = eval_onehot[np.arange(batchSize)]\n",
        "eval_noise_ = (torch.from_numpy(eval_noise_))\n",
        "eval_noise.data.copy_(eval_noise_.view(batchSize, nz, 1, 1))\n",
        "\n",
        "# setup optimizer\n",
        "optimizerD = torch.optim.Adam(discriminator.parameters(), lr=lr, betas=(beta1, 0.999))\n",
        "optimizerG = torch.optim.Adam(generator.parameters(), lr=lr, betas=(beta1, 0.999))"
      ],
      "execution_count": null,
      "outputs": []
    },
    {
      "cell_type": "code",
      "metadata": {
        "colab": {
          "base_uri": "https://localhost:8080/"
        },
        "id": "enMReBNYCjmA",
        "outputId": "0bfcb03e-143c-4d79-f801-d36af93f8f4e"
      },
      "source": [
        "avg_loss_D = 0.0\n",
        "avg_loss_G = 0.0\n",
        "avg_acc_D = 0.0\n",
        "\n",
        "avg_loss_D_list = list() \n",
        "avg_loss_G_list = list() \n",
        "avg_acc_D_list = list()\n",
        "\n",
        "for epoch in range(niter):\n",
        "    for i, data in enumerate(dataloader, 0):\n",
        "\n",
        "      \n",
        "        discriminator.zero_grad()\n",
        "        real_cpu, label = data\n",
        "        batch_size = real_cpu.size(0)\n",
        "        if cuda:\n",
        "            real_cpu = real_cpu.cuda()\n",
        "        input.data.resize_as_(real_cpu).copy_(real_cpu)\n",
        "        dis_label.data.resize_(batch_size).fill_(real_label)\n",
        "        aux_label.data.resize_(batch_size).copy_(label)\n",
        "        dis_output, aux_output = discriminator(input)\n",
        "\n",
        "        dis_lossD_real = dis_loss(dis_output, dis_label)\n",
        "        aux_lossD_real = aux_loss(aux_output, aux_label)\n",
        "        lossD_real = dis_lossD_real + aux_lossD_real\n",
        "        lossD_real.backward()\n",
        "        D_x = dis_output.data.mean()\n",
        "\n",
        "        noise.data.resize_(batch_size, nz, 1, 1).normal_(0, 1)\n",
        "        label = np.random.randint(0, num_classes, batch_size)\n",
        "        noise_ = np.random.normal(0, 1, (batch_size, nz))\n",
        "        class_onehot = np.zeros((batch_size, num_classes))\n",
        "        class_onehot[np.arange(batch_size), label] = 1\n",
        "        noise_[np.arange(batch_size), :num_classes] = class_onehot[np.arange(batch_size)]\n",
        "        noise_ = (torch.from_numpy(noise_))\n",
        "        noise.data.copy_(noise_.view(batch_size, nz, 1, 1))\n",
        "        aux_label.data.resize_(batch_size).copy_(torch.from_numpy(label))\n",
        "\n",
        "        fake = generator(noise)\n",
        "        dis_label.data.fill_(fake_label)\n",
        "        dis_output, aux_output = discriminator(fake.detach())\n",
        "        dis_lossD_fake = dis_loss(dis_output, dis_label)\n",
        "        aux_lossD_fake = aux_loss(aux_output, aux_label)\n",
        "        lossD_fake = dis_lossD_fake + aux_lossD_fake\n",
        "        lossD_fake.backward()\n",
        "        D_G_z1 = dis_output.data.mean()\n",
        "        lossD = lossD_real + lossD_fake\n",
        "        optimizerD.step()\n",
        "\n",
        "        generator.zero_grad()\n",
        "        dis_label.data.fill_(real_label) \n",
        "        dis_output, aux_output = discriminator(fake)\n",
        "        dis_lossG = dis_loss(dis_output, dis_label)\n",
        "        aux_lossG = aux_loss(aux_output, aux_label)\n",
        "        lossG = dis_lossG + aux_lossG\n",
        "        lossG.backward()\n",
        "        D_G_z2 = dis_output.data.mean()\n",
        "        optimizerG.step()\n",
        "\n",
        "        # compute the average batch loss\n",
        "        avg_loss_D_batch_list.append(lossG.data.item())\n",
        "        avg_loss_G_batch_list.append(lossD.data.item()) \n",
        "\n",
        "    avg_loss_D_list.append(np.mean(avg_loss_D_batch_list)) \n",
        "    avg_loss_G_list.append(np.mean(avg_loss_G_batch_list)) \n",
        "\n",
        "    vutils.save_image(\n",
        "        real_cpu, '%s/real_samples.png' % outf)\n",
        "    # print('Label for eval = {}'.format(eval_label))\n",
        "    print(eval_noise.shape)\n",
        "    fake = generator(eval_noise)\n",
        "    vutils.save_image(\n",
        "        fake.data,\n",
        "        '%s/fake_samples_epoch_%03d.png' % (outf, epoch)\n",
        "    )\n",
        "    print('[%d/%d][%d/%d] Loss_D: %.4f Loss_G: %.4f'\n",
        "      % (epoch, niter, i, len(dataloader),\n",
        "          avg_loss_D_list[-1], avg_loss_G_list[-1]))\n",
        "        \n",
        "\n",
        "    # do checkpointing\n",
        "    torch.save(generator.state_dict(), '%s/generator_epoch_%d.pth' % (outf, epoch))\n",
        "    torch.save(discriminator.state_dict(), '%s/discriminator_epoch_%d.pth' % (outf, epoch))"
      ],
      "execution_count": null,
      "outputs": [
        {
          "output_type": "stream",
          "name": "stderr",
          "text": [
            "/usr/local/lib/python3.7/dist-packages/ipykernel_launcher.py:42: UserWarning: Implicit dimension choice for softmax has been deprecated. Change the call to include dim=X as an argument.\n"
          ]
        },
        {
          "output_type": "stream",
          "name": "stdout",
          "text": [
            "torch.Size([100, 110, 1, 1])\n",
            "[0/2][499/500] Loss_D: 0.3720 Loss_G: 0.1003\n",
            "torch.Size([100, 110, 1, 1])\n",
            "[1/2][499/500] Loss_D: -0.0206 Loss_G: 0.2381\n"
          ]
        }
      ]
    },
    {
      "cell_type": "code",
      "metadata": {
        "id": "a3q6fAvPFsg4"
      },
      "source": [
        "import matplotlib.pyplot as plt "
      ],
      "execution_count": null,
      "outputs": []
    },
    {
      "cell_type": "code",
      "metadata": {
        "colab": {
          "base_uri": "https://localhost:8080/",
          "height": 295
        },
        "id": "qiBRB9M-DS-n",
        "outputId": "08a82f93-81b0-49bf-8793-9ebd227ca90e"
      },
      "source": [
        "plt.plot(list(range(epoch+1)),avg_loss_D_list)\n",
        "plt.xlabel('Loss')\n",
        "plt.ylabel('Epocs')\n",
        "plt.title('ACGAN Discriminator Loss vs Epocs')\n",
        "plt.show()"
      ],
      "execution_count": null,
      "outputs": [
        {
          "output_type": "display_data",
          "data": {
            "image/png": "[encoded data removed]",
            "text/plain": [
              "<Figure size 432x288 with 1 Axes>"
            ]
          },
          "metadata": {
            "needs_background": "light"
          }
        }
      ]
    },
    {
      "cell_type": "code",
      "metadata": {
        "colab": {
          "base_uri": "https://localhost:8080/",
          "height": 295
        },
        "id": "N4cZYwGdFpxF",
        "outputId": "5cefe7f0-2bd5-4d4a-acd0-20be86c055fb"
      },
      "source": [
        "plt.plot(list(range(epoch+1)),avg_loss_G_list)\n",
        "plt.xlabel('Loss')\n",
        "plt.ylabel('Epocs')\n",
        "plt.title('ACGAN Generator Loss vs Epocs')\n",
        "plt.show()"
      ],
      "execution_count": null,
      "outputs": [
        {
          "output_type": "display_data",
          "data": {
            "image/png": "[encoded data removed]",
            "text/plain": [
              "<Figure size 432x288 with 1 Axes>"
            ]
          },
          "metadata": {
            "needs_background": "light"
          }
        }
      ]
    },
    {
      "cell_type": "code",
      "metadata": {
        "colab": {
          "base_uri": "https://localhost:8080/"
        },
        "id": "OBobndNfNhMD",
        "outputId": "825e8261-4d20-4fab-908e-bf19e4ade09c"
      },
      "source": [
        "model = Generator(num_classes).cuda()\n",
        "model.load_state_dict(torch.load('./output/generator_epoch_1.pth'))\n",
        "model.eval()"
      ],
      "execution_count": null,
      "outputs": [
        {
          "output_type": "execute_result",
          "data": {
            "text/plain": [
              "Generator(\n",
              "  (fc1): Linear(in_features=110, out_features=384, bias=True)\n",
              "  (tconv2): Sequential(\n",
              "    (0): ConvTranspose2d(384, 192, kernel_size=(4, 4), stride=(1, 1), bias=False)\n",
              "    (1): BatchNorm2d(192, eps=1e-05, momentum=0.1, affine=True, track_running_stats=True)\n",
              "    (2): ReLU(inplace=True)\n",
              "  )\n",
              "  (tconv3): Sequential(\n",
              "    (0): ConvTranspose2d(192, 96, kernel_size=(4, 4), stride=(2, 2), padding=(1, 1), bias=False)\n",
              "    (1): BatchNorm2d(96, eps=1e-05, momentum=0.1, affine=True, track_running_stats=True)\n",
              "    (2): ReLU(inplace=True)\n",
              "  )\n",
              "  (tconv4): Sequential(\n",
              "    (0): ConvTranspose2d(96, 48, kernel_size=(4, 4), stride=(2, 2), padding=(1, 1), bias=False)\n",
              "    (1): BatchNorm2d(48, eps=1e-05, momentum=0.1, affine=True, track_running_stats=True)\n",
              "    (2): ReLU(inplace=True)\n",
              "  )\n",
              "  (tconv5): Sequential(\n",
              "    (0): ConvTranspose2d(48, 3, kernel_size=(4, 4), stride=(2, 2), padding=(1, 1), bias=False)\n",
              "    (1): Tanh()\n",
              "  )\n",
              ")"
            ]
          },
          "metadata": {},
          "execution_count": 34
        }
      ]
    },
    {
      "cell_type": "code",
      "metadata": {
        "colab": {
          "base_uri": "https://localhost:8080/"
        },
        "id": "d7gRIqodI7IE",
        "outputId": "d02d0b0e-1042-4dff-b94b-5c5c35f16d3b"
      },
      "source": [
        "batchSize = 2\n",
        "nvector = torch.FloatTensor(batchSize, nz, 1, 1).normal_(0, 1).cuda()\n",
        "nvector = Variable(nvector)\n",
        "eval_noise_ = np.random.normal(0, 1, (batchSize, nz))\n",
        "eval_label = np.random.randint(0, num_classes, batchSize)\n",
        "eval_onehot = np.zeros((batchSize, num_classes))\n",
        "eval_onehot[np.arange(batchSize), eval_label] = 1\n",
        "eval_noise_[np.arange(batchSize), :num_classes] = eval_onehot[np.arange(batchSize)]\n",
        "eval_noise_ = (torch.from_numpy(eval_noise_))\n",
        "nvector.data.copy_(eval_noise_.view(batchSize, nz, 1, 1))\n",
        "print(nvector.shape)\n",
        "fake = generator(nvector)"
      ],
      "execution_count": null,
      "outputs": [
        {
          "output_type": "stream",
          "name": "stdout",
          "text": [
            "torch.Size([2, 110, 1, 1])\n"
          ]
        }
      ]
    },
    {
      "cell_type": "code",
      "metadata": {
        "colab": {
          "base_uri": "https://localhost:8080/"
        },
        "id": "XuNu1lZhYe9o",
        "outputId": "afbd7dac-44c2-4250-e5c1-01cdfd2ce64e"
      },
      "source": [
        "eval_label"
      ],
      "execution_count": null,
      "outputs": [
        {
          "output_type": "execute_result",
          "data": {
            "text/plain": [
              "array([7, 9])"
            ]
          },
          "metadata": {},
          "execution_count": 24
        }
      ]
    },
    {
      "cell_type": "code",
      "metadata": {
        "colab": {
          "base_uri": "https://localhost:8080/",
          "height": 257
        },
        "id": "ibCvIGjoNFoB",
        "outputId": "f8a3cf56-ada8-4338-8e5a-a4903e789ae6"
      },
      "source": [
        "grid_img = vutils.make_grid(fake, nrow=2).cpu()\n",
        "plt.imshow(grid_img.permute(1, 2, 0))"
      ],
      "execution_count": null,
      "outputs": [
        {
          "output_type": "stream",
          "name": "stderr",
          "text": [
            "Clipping input data to the valid range for imshow with RGB data ([0..1] for floats or [0..255] for integers).\n"
          ]
        },
        {
          "output_type": "execute_result",
          "data": {
            "text/plain": [
              "<matplotlib.image.AxesImage at 0x7f276a28fa50>"
            ]
          },
          "metadata": {},
          "execution_count": 25
        },
        {
          "output_type": "display_data",
          "data": {
            "image/png": "[encoded data removed]",
            "text/plain": [
              "<Figure size 432x288 with 1 Axes>"
            ]
          },
          "metadata": {
            "needs_background": "light"
          }
        }
      ]
    },
    {
      "cell_type": "code",
      "metadata": {
        "colab": {
          "base_uri": "https://localhost:8080/"
        },
        "id": "BjJiLJL_MSrN",
        "outputId": "283f2d54-1922-4577-fad2-4b1dee7794c2"
      },
      "source": [
        "batchSize = 1\n",
        "nvectorc = torch.FloatTensor(batchSize, nz, 1, 1).normal_(0, 1).cuda()\n",
        "nvectorc = Variable(nvectorc,requires_grad=False)\n",
        "nvectorc[0]=nvector[0]+nvector[1]\n",
        "print(nvectorc.shape)\n",
        "fake = generator(nvectorc)"
      ],
      "execution_count": null,
      "outputs": [
        {
          "output_type": "stream",
          "name": "stdout",
          "text": [
            "torch.Size([1, 110, 1, 1])\n"
          ]
        }
      ]
    },
    {
      "cell_type": "code",
      "metadata": {
        "colab": {
          "base_uri": "https://localhost:8080/",
          "height": 301
        },
        "id": "rxT_wO32ZiRl",
        "outputId": "d1b5074b-ede3-433e-c8e0-61d319ed5d47"
      },
      "source": [
        "grid_img = vutils.make_grid(fake, nrow=2).detach().cpu()\n",
        "plt.imshow(grid_img.permute(1, 2, 0))"
      ],
      "execution_count": null,
      "outputs": [
        {
          "output_type": "stream",
          "name": "stderr",
          "text": [
            "Clipping input data to the valid range for imshow with RGB data ([0..1] for floats or [0..255] for integers).\n"
          ]
        },
        {
          "output_type": "execute_result",
          "data": {
            "text/plain": [
              "<matplotlib.image.AxesImage at 0x7f27693eb990>"
            ]
          },
          "metadata": {},
          "execution_count": 27
        },
        {
          "output_type": "display_data",
          "data": {
            "image/png": "[encoded data removed]",
            "text/plain": [
              "<Figure size 432x288 with 1 Axes>"
            ]
          },
          "metadata": {
            "needs_background": "light"
          }
        }
      ]
    }
  ]
}